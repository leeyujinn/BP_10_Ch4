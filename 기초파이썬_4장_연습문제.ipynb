{
  "nbformat": 4,
  "nbformat_minor": 0,
  "metadata": {
    "colab": {
      "provenance": [],
      "authorship_tag": "ABX9TyPI9YRw9DckfFrUJlYsSnfi",
      "include_colab_link": true
    },
    "kernelspec": {
      "name": "python3",
      "display_name": "Python 3"
    },
    "language_info": {
      "name": "python"
    }
  },
  "cells": [
    {
      "cell_type": "markdown",
      "metadata": {
        "id": "view-in-github",
        "colab_type": "text"
      },
      "source": [
        "<a href=\"https://colab.research.google.com/github/leeyujinn/BP_10_Ch4/blob/main/%EA%B8%B0%EC%B4%88%ED%8C%8C%EC%9D%B4%EC%8D%AC_4%EC%9E%A5_%EC%97%B0%EC%8A%B5%EB%AC%B8%EC%A0%9C.ipynb\" target=\"_parent\"><img src=\"https://colab.research.google.com/assets/colab-badge.svg\" alt=\"Open In Colab\"/></a>"
      ]
    },
    {
      "cell_type": "markdown",
      "source": [
        "1. 왜 다음과 같은 수식이 오류를 발생시키는가? 올바르게 수정하라."
      ],
      "metadata": {
        "id": "hfLuBdXr9zgj"
      }
    },
    {
      "cell_type": "code",
      "source": [
        "#'나는 '과 '개의 사과를 먹었다.'는 문자열, 12는 숫자임\n",
        "#12를 str(12)로 작성하여 숫자를 문자열로 변경 시켜줌.\n",
        "print('나는 '+str(12)+'개의 사과를 먹었다.') #위의 내용을 출력하려면 print 함수가 필요."
      ],
      "metadata": {
        "colab": {
          "base_uri": "https://localhost:8080/"
        },
        "id": "btoqRLqy95ri",
        "outputId": "02402a1b-0599-4024-c432-19d718a85674"
      },
      "execution_count": 2,
      "outputs": [
        {
          "output_type": "stream",
          "name": "stdout",
          "text": [
            "나는 12개의 사과를 먹었다.\n"
          ]
        }
      ]
    },
    {
      "cell_type": "markdown",
      "source": [
        "2. 다음과 같은 수식을 계산하면 결과는 무엇인가?"
      ],
      "metadata": {
        "id": "AxpbjabC_MoR"
      }
    },
    {
      "cell_type": "code",
      "source": [
        "print('apple'+'grape') #문자열이 합해져 applegrape가 출력됨\n",
        "print('apple'*3)  #apple이 3번 나오는 반복문이 형성됨"
      ],
      "metadata": {
        "colab": {
          "base_uri": "https://localhost:8080/"
        },
        "id": "Zg5mX_JV_hTt",
        "outputId": "da2f840b-c7d0-48da-a36e-56ab20c363f2"
      },
      "execution_count": 3,
      "outputs": [
        {
          "output_type": "stream",
          "name": "stdout",
          "text": [
            "applegrape\n",
            "appleappleapple\n"
          ]
        }
      ]
    },
    {
      "cell_type": "markdown",
      "source": [
        "3. 다음과 같이 사용자가 입력한 문자열 중에서 처음 2 글자와 마지막 2 글자를 추출한 후에 이들을 합쳐서 출력해보자."
      ],
      "metadata": {
        "id": "gH4524Sd_3AO"
      }
    },
    {
      "cell_type": "code",
      "source": [
        "t = input(\"문자열을 입력하시오: \") #사용자에게 문자열을 입력받음.\n",
        "print(t[0:2] + t[-2:]) #사용자가 입력한 문자열에서 처음 2글자, 마지막 2글자를 추출하고 합침"
      ],
      "metadata": {
        "colab": {
          "base_uri": "https://localhost:8080/"
        },
        "id": "h5BM_XmXAA_y",
        "outputId": "9343cd13-fbc8-406a-bfa8-808ba7b27038"
      },
      "execution_count": 10,
      "outputs": [
        {
          "output_type": "stream",
          "name": "stdout",
          "text": [
            "문자열을 입력하시오: python\n",
            "pyon\n"
          ]
        }
      ]
    },
    {
      "cell_type": "markdown",
      "source": [
        "4. 다음과 같이 사용자가 입력한 문자열 뒤에 항상 \"하는 중\"를 붙이는 프로그램을 작성해보자."
      ],
      "metadata": {
        "id": "XuBWnDgBBBO3"
      }
    },
    {
      "cell_type": "code",
      "source": [
        "letter = input(\"문자열을 입력하시오: \") #사용자에게 문자열을 입력받음\n",
        "print(letter+\"하는 중\") #사용자가 입력한 문자열 뒤에 하는 중이 붙도록 출력하기"
      ],
      "metadata": {
        "colab": {
          "base_uri": "https://localhost:8080/"
        },
        "id": "0XciWwdnBI7H",
        "outputId": "001ada1c-deae-4c32-f5f3-6e35fa15be66"
      },
      "execution_count": 11,
      "outputs": [
        {
          "output_type": "stream",
          "name": "stdout",
          "text": [
            "문자열을 입력하시오:청소\n",
            "청소하는 중\n"
          ]
        }
      ]
    },
    {
      "cell_type": "markdown",
      "source": [
        "5. 사용자가 입력한 기호 안에 문자열을 삽입하려면 어떻게 해야 하는가? 기호는 문자 2개로 이루어있다고 가정한다."
      ],
      "metadata": {
        "id": "mfrJ4jPYBql3"
      }
    },
    {
      "cell_type": "code",
      "source": [
        "x = input(\"기호를 입력하시오:\") #사용자에게 기호를 입력받음\n",
        "middle = input(\"중간에 삽입할 문자열을 입력하시오: \") #사용자가 중간에 삽입할 문자열을 받음\n",
        "print(x[0]+middle+x[1]) #변수 x에 중간에 변수 middle이 들어가도록 함"
      ],
      "metadata": {
        "colab": {
          "base_uri": "https://localhost:8080/"
        },
        "id": "aBxSgxD1CDPI",
        "outputId": "326531a7-9119-4ac9-994b-19cd90632d68"
      },
      "execution_count": 12,
      "outputs": [
        {
          "output_type": "stream",
          "name": "stdout",
          "text": [
            "기호를 입력하시오:[]\n",
            "중간에 삽입할 문자열을 입력하시오: python\n",
            "[python]\n"
          ]
        }
      ]
    },
    {
      "cell_type": "markdown",
      "source": [
        "6. 4개의 숫자가 들어 있는 리스트가 있다. 리스트 안의 숫자들을 꺼내서 합계를 계산하여 출력하는 프로그램을 작성하라. 반복문은 사용하지 않는다. 리스트의 길이는 항상 4라고 가정한다."
      ],
      "metadata": {
        "id": "H9jNNztWDK7R"
      }
    },
    {
      "cell_type": "code",
      "source": [
        "number = [1,2,3,4] #number에 4개의 숫자가 들어가도록 함\n",
        "sum = number[0] + number[1] + number[2] + number[3] #리스트 숫자의 합을 구하는 식(리스트는 맨 앞이 0부터 시작)\n",
        "\n",
        "print(\"리스트=\",number) #리스트를 출력\n",
        "print(\"리스트 숫자들의 합=\",sum) #리스트 숫자들의 합 결과를 출력"
      ],
      "metadata": {
        "colab": {
          "base_uri": "https://localhost:8080/"
        },
        "id": "TZwk5vEvDW4U",
        "outputId": "eabfbbb6-4af1-440e-9dc7-b88800bd55c9"
      },
      "execution_count": 15,
      "outputs": [
        {
          "output_type": "stream",
          "name": "stdout",
          "text": [
            "리스트= [1, 2, 3, 4]\n",
            "리스트 숫자들의 합= 10\n"
          ]
        }
      ]
    }
  ]
}